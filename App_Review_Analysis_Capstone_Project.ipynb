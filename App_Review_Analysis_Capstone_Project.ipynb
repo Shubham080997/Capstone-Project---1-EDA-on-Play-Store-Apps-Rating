{
  "nbformat": 4,
  "nbformat_minor": 0,
  "metadata": {
    "kernelspec": {
      "display_name": "Python 3",
      "language": "python",
      "name": "python3"
    },
    "language_info": {
      "codemirror_mode": {
        "name": "ipython",
        "version": 3
      },
      "file_extension": ".py",
      "mimetype": "text/x-python",
      "name": "python",
      "nbconvert_exporter": "python",
      "pygments_lexer": "ipython3",
      "version": "3.6.6"
    },
    "colab": {
      "name": " App Review Analysis - Capstone Project.ipynb",
      "provenance": [],
      "collapsed_sections": [],
      "include_colab_link": true
    }
  },
  "cells": [
    {
      "cell_type": "markdown",
      "metadata": {
        "id": "view-in-github",
        "colab_type": "text"
      },
      "source": [
        "<a href=\"https://colab.research.google.com/github/Shubham080997/Capstone-Project---1-EDA-on-Play-Store-Apps-Rating/blob/main/App_Review_Analysis_Capstone_Project.ipynb\" target=\"_parent\"><img src=\"https://colab.research.google.com/assets/colab-badge.svg\" alt=\"Open In Colab\"/></a>"
      ]
    },
    {
      "cell_type": "markdown",
      "metadata": {
        "id": "Y06xIdG26kRF"
      },
      "source": [
        "## <b> The Play Store apps data has enormous potential to drive app-making businesses to success. Actionable insights can be drawn for developers to work on and capture the Android market. </b>\n",
        "\n",
        "## <b> Each app (row) has values for catergory, rating, size, and more. Another dataset contains customer reviews of the android apps.</b>\n",
        "\n",
        "## <b> Explore and analyze the data to discover key factors responsible for app engagement and success. </b>"
      ]
    },
    {
      "cell_type": "code",
      "metadata": {
        "id": "mfqHHI8bTKS9",
        "colab": {
          "base_uri": "https://localhost:8080/",
          "height": 17
        },
        "outputId": "78e10b49-dc5e-409d-fcfd-c8a0bcbd1c74"
      },
      "source": [
        "import numpy as np\r\n",
        "import pandas as pd\r\n",
        "import seaborn as sns\r\n",
        "from matplotlib import pyplot as plt\r\n",
        "import plotly\r\n",
        "plotly.offline.init_notebook_mode(connected=True)\r\n",
        "import plotly.graph_objs as go\r\n"
      ],
      "execution_count": null,
      "outputs": [
        {
          "output_type": "display_data",
          "data": {
            "text/html": [
              "        <script type=\"text/javascript\">\n",
              "        window.PlotlyConfig = {MathJaxConfig: 'local'};\n",
              "        if (window.MathJax) {MathJax.Hub.Config({SVG: {font: \"STIX-Web\"}});}\n",
              "        if (typeof require !== 'undefined') {\n",
              "        require.undef(\"plotly\");\n",
              "        requirejs.config({\n",
              "            paths: {\n",
              "                'plotly': ['https://cdn.plot.ly/plotly-latest.min']\n",
              "            }\n",
              "        });\n",
              "        require(['plotly'], function(Plotly) {\n",
              "            window._Plotly = Plotly;\n",
              "        });\n",
              "        }\n",
              "        </script>\n",
              "        "
            ]
          },
          "metadata": {
            "tags": []
          }
        }
      ]
    },
    {
      "cell_type": "code",
      "metadata": {
        "colab": {
          "base_uri": "https://localhost:8080/"
        },
        "id": "PkwflOAHIyI5",
        "outputId": "df99b90c-f352-468f-fc2d-6e0f628b9069"
      },
      "source": [
        "from google.colab import drive\n",
        "drive.mount('/content/drive')"
      ],
      "execution_count": null,
      "outputs": [
        {
          "output_type": "stream",
          "text": [
            "Mounted at /content/drive\n"
          ],
          "name": "stdout"
        }
      ]
    },
    {
      "cell_type": "code",
      "metadata": {
        "id": "LUcmO7KmUpKS"
      },
      "source": [
        "working_dir = '/content/drive/MyDrive/Almabetter/Cohort Nilgiri/Module 1/Week 4/Day 3/Play Store Data.csv'\r\n",
        "apps_df = pd.read_csv(working_dir)"
      ],
      "execution_count": null,
      "outputs": []
    },
    {
      "cell_type": "code",
      "metadata": {
        "id": "QvkY1JdaEznJ"
      },
      "source": [
        "working_dirt = '/content/drive/MyDrive/Almabetter/Cohort Nilgiri/Module 1/Week 4/Day 3/User Reviews.csv'\r\n",
        "app_df = pd.read_csv(working_dirt)"
      ],
      "execution_count": null,
      "outputs": []
    },
    {
      "cell_type": "code",
      "metadata": {
        "colab": {
          "base_uri": "https://localhost:8080/",
          "height": 564
        },
        "id": "0_4WCEWJVtQj",
        "outputId": "917118f5-2152-4e8c-d81c-6db00baea0e4"
      },
      "source": [
        "apps_df.head()"
      ],
      "execution_count": null,
      "outputs": [
        {
          "output_type": "execute_result",
          "data": {
            "text/html": [
              "<div>\n",
              "<style scoped>\n",
              "    .dataframe tbody tr th:only-of-type {\n",
              "        vertical-align: middle;\n",
              "    }\n",
              "\n",
              "    .dataframe tbody tr th {\n",
              "        vertical-align: top;\n",
              "    }\n",
              "\n",
              "    .dataframe thead th {\n",
              "        text-align: right;\n",
              "    }\n",
              "</style>\n",
              "<table border=\"1\" class=\"dataframe\">\n",
              "  <thead>\n",
              "    <tr style=\"text-align: right;\">\n",
              "      <th></th>\n",
              "      <th>App</th>\n",
              "      <th>Category</th>\n",
              "      <th>Rating</th>\n",
              "      <th>Reviews</th>\n",
              "      <th>Size</th>\n",
              "      <th>Installs</th>\n",
              "      <th>Type</th>\n",
              "      <th>Price</th>\n",
              "      <th>Content Rating</th>\n",
              "      <th>Genres</th>\n",
              "      <th>Last Updated</th>\n",
              "      <th>Current Ver</th>\n",
              "      <th>Android Ver</th>\n",
              "    </tr>\n",
              "  </thead>\n",
              "  <tbody>\n",
              "    <tr>\n",
              "      <th>0</th>\n",
              "      <td>Photo Editor &amp; Candy Camera &amp; Grid &amp; ScrapBook</td>\n",
              "      <td>ART_AND_DESIGN</td>\n",
              "      <td>4.1</td>\n",
              "      <td>159</td>\n",
              "      <td>19M</td>\n",
              "      <td>10,000+</td>\n",
              "      <td>Free</td>\n",
              "      <td>0</td>\n",
              "      <td>Everyone</td>\n",
              "      <td>Art &amp; Design</td>\n",
              "      <td>January 7, 2018</td>\n",
              "      <td>1.0.0</td>\n",
              "      <td>4.0.3 and up</td>\n",
              "    </tr>\n",
              "    <tr>\n",
              "      <th>1</th>\n",
              "      <td>Coloring book moana</td>\n",
              "      <td>ART_AND_DESIGN</td>\n",
              "      <td>3.9</td>\n",
              "      <td>967</td>\n",
              "      <td>14M</td>\n",
              "      <td>500,000+</td>\n",
              "      <td>Free</td>\n",
              "      <td>0</td>\n",
              "      <td>Everyone</td>\n",
              "      <td>Art &amp; Design;Pretend Play</td>\n",
              "      <td>January 15, 2018</td>\n",
              "      <td>2.0.0</td>\n",
              "      <td>4.0.3 and up</td>\n",
              "    </tr>\n",
              "    <tr>\n",
              "      <th>2</th>\n",
              "      <td>U Launcher Lite – FREE Live Cool Themes, Hide ...</td>\n",
              "      <td>ART_AND_DESIGN</td>\n",
              "      <td>4.7</td>\n",
              "      <td>87510</td>\n",
              "      <td>8.7M</td>\n",
              "      <td>5,000,000+</td>\n",
              "      <td>Free</td>\n",
              "      <td>0</td>\n",
              "      <td>Everyone</td>\n",
              "      <td>Art &amp; Design</td>\n",
              "      <td>August 1, 2018</td>\n",
              "      <td>1.2.4</td>\n",
              "      <td>4.0.3 and up</td>\n",
              "    </tr>\n",
              "    <tr>\n",
              "      <th>3</th>\n",
              "      <td>Sketch - Draw &amp; Paint</td>\n",
              "      <td>ART_AND_DESIGN</td>\n",
              "      <td>4.5</td>\n",
              "      <td>215644</td>\n",
              "      <td>25M</td>\n",
              "      <td>50,000,000+</td>\n",
              "      <td>Free</td>\n",
              "      <td>0</td>\n",
              "      <td>Teen</td>\n",
              "      <td>Art &amp; Design</td>\n",
              "      <td>June 8, 2018</td>\n",
              "      <td>Varies with device</td>\n",
              "      <td>4.2 and up</td>\n",
              "    </tr>\n",
              "    <tr>\n",
              "      <th>4</th>\n",
              "      <td>Pixel Draw - Number Art Coloring Book</td>\n",
              "      <td>ART_AND_DESIGN</td>\n",
              "      <td>4.3</td>\n",
              "      <td>967</td>\n",
              "      <td>2.8M</td>\n",
              "      <td>100,000+</td>\n",
              "      <td>Free</td>\n",
              "      <td>0</td>\n",
              "      <td>Everyone</td>\n",
              "      <td>Art &amp; Design;Creativity</td>\n",
              "      <td>June 20, 2018</td>\n",
              "      <td>1.1</td>\n",
              "      <td>4.4 and up</td>\n",
              "    </tr>\n",
              "  </tbody>\n",
              "</table>\n",
              "</div>"
            ],
            "text/plain": [
              "                                                 App  ...   Android Ver\n",
              "0     Photo Editor & Candy Camera & Grid & ScrapBook  ...  4.0.3 and up\n",
              "1                                Coloring book moana  ...  4.0.3 and up\n",
              "2  U Launcher Lite – FREE Live Cool Themes, Hide ...  ...  4.0.3 and up\n",
              "3                              Sketch - Draw & Paint  ...    4.2 and up\n",
              "4              Pixel Draw - Number Art Coloring Book  ...    4.4 and up\n",
              "\n",
              "[5 rows x 13 columns]"
            ]
          },
          "metadata": {
            "tags": []
          },
          "execution_count": 9
        }
      ]
    },
    {
      "cell_type": "code",
      "metadata": {
        "id": "GDxEhY-gXlQq",
        "colab": {
          "base_uri": "https://localhost:8080/",
          "height": 204
        },
        "outputId": "16d61ac1-a6de-4c4d-b2e9-37cbdfa58020"
      },
      "source": [
        "app_df.head()"
      ],
      "execution_count": null,
      "outputs": [
        {
          "output_type": "execute_result",
          "data": {
            "text/html": [
              "<div>\n",
              "<style scoped>\n",
              "    .dataframe tbody tr th:only-of-type {\n",
              "        vertical-align: middle;\n",
              "    }\n",
              "\n",
              "    .dataframe tbody tr th {\n",
              "        vertical-align: top;\n",
              "    }\n",
              "\n",
              "    .dataframe thead th {\n",
              "        text-align: right;\n",
              "    }\n",
              "</style>\n",
              "<table border=\"1\" class=\"dataframe\">\n",
              "  <thead>\n",
              "    <tr style=\"text-align: right;\">\n",
              "      <th></th>\n",
              "      <th>App</th>\n",
              "      <th>Translated_Review</th>\n",
              "      <th>Sentiment</th>\n",
              "      <th>Sentiment_Polarity</th>\n",
              "      <th>Sentiment_Subjectivity</th>\n",
              "    </tr>\n",
              "  </thead>\n",
              "  <tbody>\n",
              "    <tr>\n",
              "      <th>0</th>\n",
              "      <td>10 Best Foods for You</td>\n",
              "      <td>I like eat delicious food. That's I'm cooking ...</td>\n",
              "      <td>Positive</td>\n",
              "      <td>1.00</td>\n",
              "      <td>0.533333</td>\n",
              "    </tr>\n",
              "    <tr>\n",
              "      <th>1</th>\n",
              "      <td>10 Best Foods for You</td>\n",
              "      <td>This help eating healthy exercise regular basis</td>\n",
              "      <td>Positive</td>\n",
              "      <td>0.25</td>\n",
              "      <td>0.288462</td>\n",
              "    </tr>\n",
              "    <tr>\n",
              "      <th>2</th>\n",
              "      <td>10 Best Foods for You</td>\n",
              "      <td>NaN</td>\n",
              "      <td>NaN</td>\n",
              "      <td>NaN</td>\n",
              "      <td>NaN</td>\n",
              "    </tr>\n",
              "    <tr>\n",
              "      <th>3</th>\n",
              "      <td>10 Best Foods for You</td>\n",
              "      <td>Works great especially going grocery store</td>\n",
              "      <td>Positive</td>\n",
              "      <td>0.40</td>\n",
              "      <td>0.875000</td>\n",
              "    </tr>\n",
              "    <tr>\n",
              "      <th>4</th>\n",
              "      <td>10 Best Foods for You</td>\n",
              "      <td>Best idea us</td>\n",
              "      <td>Positive</td>\n",
              "      <td>1.00</td>\n",
              "      <td>0.300000</td>\n",
              "    </tr>\n",
              "  </tbody>\n",
              "</table>\n",
              "</div>"
            ],
            "text/plain": [
              "                     App  ... Sentiment_Subjectivity\n",
              "0  10 Best Foods for You  ...               0.533333\n",
              "1  10 Best Foods for You  ...               0.288462\n",
              "2  10 Best Foods for You  ...                    NaN\n",
              "3  10 Best Foods for You  ...               0.875000\n",
              "4  10 Best Foods for You  ...               0.300000\n",
              "\n",
              "[5 rows x 5 columns]"
            ]
          },
          "metadata": {
            "tags": []
          },
          "execution_count": 10
        }
      ]
    },
    {
      "cell_type": "code",
      "metadata": {
        "colab": {
          "base_uri": "https://localhost:8080/"
        },
        "id": "bYoXYPhNYTS4",
        "outputId": "599aaeca-d3d9-4a85-a7cf-4852b6aafc9a"
      },
      "source": [
        "merge_data = pd.merge(left=apps_df, right=app_df, on=\"App\").copy()\r\n",
        "\r\n",
        "merge_data.info()"
      ],
      "execution_count": null,
      "outputs": [
        {
          "output_type": "stream",
          "text": [
            "<class 'pandas.core.frame.DataFrame'>\n",
            "Int64Index: 122662 entries, 0 to 122661\n",
            "Data columns (total 17 columns):\n",
            " #   Column                  Non-Null Count   Dtype  \n",
            "---  ------                  --------------   -----  \n",
            " 0   App                     122662 non-null  object \n",
            " 1   Category                122662 non-null  object \n",
            " 2   Rating                  122622 non-null  float64\n",
            " 3   Reviews                 122662 non-null  object \n",
            " 4   Size                    122662 non-null  object \n",
            " 5   Installs                122662 non-null  object \n",
            " 6   Type                    122662 non-null  object \n",
            " 7   Price                   122662 non-null  object \n",
            " 8   Content Rating          122662 non-null  object \n",
            " 9   Genres                  122662 non-null  object \n",
            " 10  Last Updated            122662 non-null  object \n",
            " 11  Current Ver             122662 non-null  object \n",
            " 12  Android Ver             122662 non-null  object \n",
            " 13  Translated_Review       72605 non-null   object \n",
            " 14  Sentiment               72615 non-null   object \n",
            " 15  Sentiment_Polarity      72615 non-null   float64\n",
            " 16  Sentiment_Subjectivity  72615 non-null   float64\n",
            "dtypes: float64(3), object(14)\n",
            "memory usage: 16.8+ MB\n"
          ],
          "name": "stdout"
        }
      ]
    },
    {
      "cell_type": "markdown",
      "metadata": {
        "id": "J_xwbNZlL4AL"
      },
      "source": [
        "Filtering of Reviews: As it contains a lot of null values."
      ]
    },
    {
      "cell_type": "code",
      "metadata": {
        "colab": {
          "base_uri": "https://localhost:8080/",
          "height": 204
        },
        "id": "B3V9i56WgIH3",
        "outputId": "11bc7ce4-0b28-4dc9-e833-c43f1a5b5ad3"
      },
      "source": [
        "# Dropping the missing data\r\n",
        "app_df.dropna(inplace=True)\r\n",
        "app_df.head()"
      ],
      "execution_count": null,
      "outputs": [
        {
          "output_type": "execute_result",
          "data": {
            "text/html": [
              "<div>\n",
              "<style scoped>\n",
              "    .dataframe tbody tr th:only-of-type {\n",
              "        vertical-align: middle;\n",
              "    }\n",
              "\n",
              "    .dataframe tbody tr th {\n",
              "        vertical-align: top;\n",
              "    }\n",
              "\n",
              "    .dataframe thead th {\n",
              "        text-align: right;\n",
              "    }\n",
              "</style>\n",
              "<table border=\"1\" class=\"dataframe\">\n",
              "  <thead>\n",
              "    <tr style=\"text-align: right;\">\n",
              "      <th></th>\n",
              "      <th>App</th>\n",
              "      <th>Translated_Review</th>\n",
              "      <th>Sentiment</th>\n",
              "      <th>Sentiment_Polarity</th>\n",
              "      <th>Sentiment_Subjectivity</th>\n",
              "    </tr>\n",
              "  </thead>\n",
              "  <tbody>\n",
              "    <tr>\n",
              "      <th>0</th>\n",
              "      <td>10 Best Foods for You</td>\n",
              "      <td>I like eat delicious food. That's I'm cooking ...</td>\n",
              "      <td>Positive</td>\n",
              "      <td>1.00</td>\n",
              "      <td>0.533333</td>\n",
              "    </tr>\n",
              "    <tr>\n",
              "      <th>1</th>\n",
              "      <td>10 Best Foods for You</td>\n",
              "      <td>This help eating healthy exercise regular basis</td>\n",
              "      <td>Positive</td>\n",
              "      <td>0.25</td>\n",
              "      <td>0.288462</td>\n",
              "    </tr>\n",
              "    <tr>\n",
              "      <th>3</th>\n",
              "      <td>10 Best Foods for You</td>\n",
              "      <td>Works great especially going grocery store</td>\n",
              "      <td>Positive</td>\n",
              "      <td>0.40</td>\n",
              "      <td>0.875000</td>\n",
              "    </tr>\n",
              "    <tr>\n",
              "      <th>4</th>\n",
              "      <td>10 Best Foods for You</td>\n",
              "      <td>Best idea us</td>\n",
              "      <td>Positive</td>\n",
              "      <td>1.00</td>\n",
              "      <td>0.300000</td>\n",
              "    </tr>\n",
              "    <tr>\n",
              "      <th>5</th>\n",
              "      <td>10 Best Foods for You</td>\n",
              "      <td>Best way</td>\n",
              "      <td>Positive</td>\n",
              "      <td>1.00</td>\n",
              "      <td>0.300000</td>\n",
              "    </tr>\n",
              "  </tbody>\n",
              "</table>\n",
              "</div>"
            ],
            "text/plain": [
              "                     App  ... Sentiment_Subjectivity\n",
              "0  10 Best Foods for You  ...               0.533333\n",
              "1  10 Best Foods for You  ...               0.288462\n",
              "3  10 Best Foods for You  ...               0.875000\n",
              "4  10 Best Foods for You  ...               0.300000\n",
              "5  10 Best Foods for You  ...               0.300000\n",
              "\n",
              "[5 rows x 5 columns]"
            ]
          },
          "metadata": {
            "tags": []
          },
          "execution_count": 12
        }
      ]
    },
    {
      "cell_type": "code",
      "metadata": {
        "id": "LoMwrEn3c-yh"
      },
      "source": [
        "# Drop the missing data\r\n",
        "app_df.dropna(inplace=True)\r\n",
        "\r\n",
        "# Drop the column which won't be used\r\n",
        "app_df.drop(\"Translated_Review\", axis=1, inplace=True)\r\n",
        "\r\n",
        "# Rename the remaining columns\r\n",
        "app_df.columns = [\"App\", \"Sentiment\", \"Polarity\", \"Subjectivity\"]\r\n",
        "\r\n"
      ],
      "execution_count": null,
      "outputs": []
    },
    {
      "cell_type": "code",
      "metadata": {
        "colab": {
          "base_uri": "https://localhost:8080/"
        },
        "id": "WB14oRN2ZNmI",
        "outputId": "14d4de43-9791-428b-d88f-a6fb3b7a36e7"
      },
      "source": [
        "# Obtaining the mean for each app \r\n",
        "app_df_mean = app_df.groupby(\"App\").mean().copy()\r\n",
        "\r\n",
        "app_df_mean.info()"
      ],
      "execution_count": null,
      "outputs": [
        {
          "output_type": "stream",
          "text": [
            "<class 'pandas.core.frame.DataFrame'>\n",
            "Index: 865 entries, 10 Best Foods for You to Housing-Real Estate & Property\n",
            "Data columns (total 2 columns):\n",
            " #   Column        Non-Null Count  Dtype  \n",
            "---  ------        --------------  -----  \n",
            " 0   Polarity      865 non-null    float64\n",
            " 1   Subjectivity  865 non-null    float64\n",
            "dtypes: float64(2)\n",
            "memory usage: 20.3+ KB\n"
          ],
          "name": "stdout"
        }
      ]
    },
    {
      "cell_type": "code",
      "metadata": {
        "colab": {
          "base_uri": "https://localhost:8080/"
        },
        "id": "ZAd2oHUB96J3",
        "outputId": "756e31e7-4b84-4a80-fc4c-c80ffb1be75b"
      },
      "source": [
        "# Printing the total number of unique categories\r\n",
        "num_categories = len(merge_data['Category'].unique())\r\n",
        "print('Number of categories = ', num_categories)\r\n",
        "\r\n",
        "# Counting the total number of apps and then sorting\r\n",
        "num_apps_in_category = merge_data['Category'].value_counts().sort_values(ascending =False)\r\n",
        "\r\n",
        "plots = [go.Bar(\r\n",
        "        x = num_apps_in_category.index, # here index = category name\r\n",
        "        y = num_apps_in_category.values, #here value = count\r\n",
        ")]\r\n",
        "\r\n"
      ],
      "execution_count": null,
      "outputs": [
        {
          "output_type": "stream",
          "text": [
            "Number of categories =  33\n"
          ],
          "name": "stdout"
        }
      ]
    },
    {
      "cell_type": "code",
      "metadata": {
        "colab": {
          "base_uri": "https://localhost:8080/"
        },
        "id": "XUxasSJ5780u",
        "outputId": "29e612df-1757-463a-d648-899d83c60a1b"
      },
      "source": [
        "# Getting the unique values\r\n",
        "merge_data.Sentiment.unique()"
      ],
      "execution_count": null,
      "outputs": [
        {
          "output_type": "execute_result",
          "data": {
            "text/plain": [
              "array(['Negative', 'Neutral', 'nan', 'Positive'], dtype=object)"
            ]
          },
          "metadata": {
            "tags": []
          },
          "execution_count": 26
        }
      ]
    },
    {
      "cell_type": "code",
      "metadata": {
        "colab": {
          "base_uri": "https://localhost:8080/"
        },
        "id": "42GrrRJ2YY-t",
        "outputId": "c0dea916-ff64-42fa-957d-a27a2b9525b5"
      },
      "source": [
        "app_df_mean = app_df.groupby(\"App\").mean().copy()\r\n",
        "\r\n",
        "app_df_mean.info()"
      ],
      "execution_count": null,
      "outputs": [
        {
          "output_type": "stream",
          "text": [
            "<class 'pandas.core.frame.DataFrame'>\n",
            "Index: 865 entries, 10 Best Foods for You to Housing-Real Estate & Property\n",
            "Data columns (total 2 columns):\n",
            " #   Column        Non-Null Count  Dtype  \n",
            "---  ------        --------------  -----  \n",
            " 0   Polarity      865 non-null    float64\n",
            " 1   Subjectivity  865 non-null    float64\n",
            "dtypes: float64(2)\n",
            "memory usage: 20.3+ KB\n"
          ],
          "name": "stdout"
        }
      ]
    },
    {
      "cell_type": "code",
      "metadata": {
        "colab": {
          "base_uri": "https://localhost:8080/",
          "height": 450
        },
        "id": "J3pLBjvhIGJs",
        "outputId": "73fcafbb-c298-460c-c388-21cfefcf17eb"
      },
      "source": [
        "app_df_mean"
      ],
      "execution_count": null,
      "outputs": [
        {
          "output_type": "execute_result",
          "data": {
            "text/html": [
              "<div>\n",
              "<style scoped>\n",
              "    .dataframe tbody tr th:only-of-type {\n",
              "        vertical-align: middle;\n",
              "    }\n",
              "\n",
              "    .dataframe tbody tr th {\n",
              "        vertical-align: top;\n",
              "    }\n",
              "\n",
              "    .dataframe thead th {\n",
              "        text-align: right;\n",
              "    }\n",
              "</style>\n",
              "<table border=\"1\" class=\"dataframe\">\n",
              "  <thead>\n",
              "    <tr style=\"text-align: right;\">\n",
              "      <th></th>\n",
              "      <th>Polarity</th>\n",
              "      <th>Subjectivity</th>\n",
              "    </tr>\n",
              "    <tr>\n",
              "      <th>App</th>\n",
              "      <th></th>\n",
              "      <th></th>\n",
              "    </tr>\n",
              "  </thead>\n",
              "  <tbody>\n",
              "    <tr>\n",
              "      <th>10 Best Foods for You</th>\n",
              "      <td>0.470733</td>\n",
              "      <td>0.495455</td>\n",
              "    </tr>\n",
              "    <tr>\n",
              "      <th>104 找工作 - 找工作 找打工 找兼職 履歷健檢 履歷診療室</th>\n",
              "      <td>0.392405</td>\n",
              "      <td>0.545516</td>\n",
              "    </tr>\n",
              "    <tr>\n",
              "      <th>11st</th>\n",
              "      <td>0.185943</td>\n",
              "      <td>0.455340</td>\n",
              "    </tr>\n",
              "    <tr>\n",
              "      <th>1800 Contacts - Lens Store</th>\n",
              "      <td>0.318145</td>\n",
              "      <td>0.591098</td>\n",
              "    </tr>\n",
              "    <tr>\n",
              "      <th>1LINE – One Line with One Touch</th>\n",
              "      <td>0.196290</td>\n",
              "      <td>0.557315</td>\n",
              "    </tr>\n",
              "    <tr>\n",
              "      <th>...</th>\n",
              "      <td>...</td>\n",
              "      <td>...</td>\n",
              "    </tr>\n",
              "    <tr>\n",
              "      <th>Hotels.com: Book Hotel Rooms &amp; Find Vacation Deals</th>\n",
              "      <td>0.101622</td>\n",
              "      <td>0.545444</td>\n",
              "    </tr>\n",
              "    <tr>\n",
              "      <th>Hotspot Shield Free VPN Proxy &amp; Wi-Fi Security</th>\n",
              "      <td>0.251765</td>\n",
              "      <td>0.393284</td>\n",
              "    </tr>\n",
              "    <tr>\n",
              "      <th>Hotstar</th>\n",
              "      <td>0.038178</td>\n",
              "      <td>0.493964</td>\n",
              "    </tr>\n",
              "    <tr>\n",
              "      <th>Hotwire Hotel &amp; Car Rental App</th>\n",
              "      <td>0.187029</td>\n",
              "      <td>0.459717</td>\n",
              "    </tr>\n",
              "    <tr>\n",
              "      <th>Housing-Real Estate &amp; Property</th>\n",
              "      <td>-0.021427</td>\n",
              "      <td>0.378532</td>\n",
              "    </tr>\n",
              "  </tbody>\n",
              "</table>\n",
              "<p>865 rows × 2 columns</p>\n",
              "</div>"
            ],
            "text/plain": [
              "                                                    Polarity  Subjectivity\n",
              "App                                                                       \n",
              "10 Best Foods for You                               0.470733      0.495455\n",
              "104 找工作 - 找工作 找打工 找兼職 履歷健檢 履歷診療室                    0.392405      0.545516\n",
              "11st                                                0.185943      0.455340\n",
              "1800 Contacts - Lens Store                          0.318145      0.591098\n",
              "1LINE – One Line with One Touch                     0.196290      0.557315\n",
              "...                                                      ...           ...\n",
              "Hotels.com: Book Hotel Rooms & Find Vacation Deals  0.101622      0.545444\n",
              "Hotspot Shield Free VPN Proxy & Wi-Fi Security      0.251765      0.393284\n",
              "Hotstar                                             0.038178      0.493964\n",
              "Hotwire Hotel & Car Rental App                      0.187029      0.459717\n",
              "Housing-Real Estate & Property                     -0.021427      0.378532\n",
              "\n",
              "[865 rows x 2 columns]"
            ]
          },
          "metadata": {
            "tags": []
          },
          "execution_count": 18
        }
      ]
    },
    {
      "cell_type": "code",
      "metadata": {
        "id": "ZP9dGObDphAP"
      },
      "source": [
        "merge_data['Sentiment'] = merge_data['Sentiment'].astype(str)"
      ],
      "execution_count": null,
      "outputs": []
    },
    {
      "cell_type": "code",
      "metadata": {
        "colab": {
          "base_uri": "https://localhost:8080/",
          "height": 444
        },
        "id": "ZCkn-TF-Xf0r",
        "outputId": "268d3fb1-8631-4730-b569-d29f44f46e04"
      },
      "source": [
        "# Creating the plot for the histograms\r\n",
        "fig, ax = plt.subplots(nrows=1, ncols=2, figsize=(14, 7), sharey=True)\r\n",
        "\r\n",
        "# Creating the histograms\r\n",
        "ax[0].hist(merge_data.Sentiment,bins=20)\r\n",
        "ax[1].hist(merge_data.Rating, bins=20)\r\n",
        "ax[1].set_xlim(0, 5)\r\n",
        "\r\n",
        "# Adding the titles\r\n",
        "ax[0].set_title(\"Sentiment\")\r\n",
        "ax[1].set_title(\"Rating\")\r\n",
        "\r\n",
        "plt.show()"
      ],
      "execution_count": null,
      "outputs": [
        {
          "output_type": "display_data",
          "data": {
            "image/png": "[encoded data removed]",
            "text/plain": [
              "<Figure size 1008x504 with 2 Axes>"
            ]
          },
          "metadata": {
            "tags": [],
            "needs_background": "light"
          }
        }
      ]
    },
    {
      "cell_type": "code",
      "metadata": {
        "colab": {
          "base_uri": "https://localhost:8080/",
          "height": 973
        },
        "id": "uldYn7zALqB-",
        "outputId": "8fc01017-daae-465e-be40-f5cc5191f3c1"
      },
      "source": [
        "#Number of free and paid Apps available\r\n",
        "plt.figure(figsize=(10,10))\r\n",
        "plt.subplot(1,2,1)\r\n",
        "sns.countplot(x='Type',data=apps_df)\r\n",
        "plt.title(\"Number of Apps Available: Free v/s Paid\")\r\n",
        "\r\n",
        "#Most installed apps based on Category\r\n",
        "\r\n",
        "sns.catplot(x='Type',y='Installs',data=merge_data,ci=None)\r\n",
        "plt.title(\"Number of Apps installed: Free v/s Paid\")\r\n",
        "plt.tight_layout()\r\n"
      ],
      "execution_count": null,
      "outputs": [
        {
          "output_type": "display_data",
          "data": {
            "image/png": "[encoded data removed]",
            "text/plain": [
              "<Figure size 720x720 with 1 Axes>"
            ]
          },
          "metadata": {
            "tags": [],
            "needs_background": "light"
          }
        },
        {
          "output_type": "display_data",
          "data": {
            "image/png": "[encoded data removed]",
            "text/plain": [
              "<Figure size 360x360 with 1 Axes>"
            ]
          },
          "metadata": {
            "tags": [],
            "needs_background": "light"
          }
        }
      ]
    },
    {
      "cell_type": "code",
      "metadata": {
        "colab": {
          "base_uri": "https://localhost:8080/",
          "height": 444
        },
        "id": "6BeYbok3Praz",
        "outputId": "168ddd1b-44e2-4138-9647-74747d7720ba"
      },
      "source": [
        "# Plotting the scatter graph\r\n",
        "merge_data.plot(\"Sentiment\", \"Rating\", kind=\"scatter\", figsize=(8, 7))\r\n",
        "plt.show()"
      ],
      "execution_count": null,
      "outputs": [
        {
          "output_type": "display_data",
          "data": {
            "image/png": "[encoded data removed]",
            "text/plain": [
              "<Figure size 576x504 with 1 Axes>"
            ]
          },
          "metadata": {
            "tags": [],
            "needs_background": "light"
          }
        }
      ]
    },
    {
      "cell_type": "code",
      "metadata": {
        "colab": {
          "base_uri": "https://localhost:8080/"
        },
        "id": "9QG98rk8dkwa",
        "outputId": "b598bedb-b656-478a-f3b0-314b24ab06b7"
      },
      "source": [
        "# Separate by Type\r\n",
        "free = apps_df.loc[apps_df.Type == \"Free\"].copy()\r\n",
        "paid = apps_df.loc[apps_df.Type == \"Paid\"].copy()\r\n",
        "\r\n",
        "# Obtain the means\r\n",
        "free_mean = free.Rating.mean()\r\n",
        "paid_mean = paid.Rating.mean()\r\n",
        "print(free_mean)\r\n",
        "print(paid_mean)\r\n"
      ],
      "execution_count": null,
      "outputs": [
        {
          "output_type": "stream",
          "text": [
            "4.186202546163562\n",
            "4.266615146831529\n"
          ],
          "name": "stdout"
        }
      ]
    },
    {
      "cell_type": "code",
      "metadata": {
        "id": "7aWrUOzXqQDq"
      },
      "source": [
        "merge_data['Rating'] = merge_data['Rating'].astype(str)\r\n",
        "merge_data['Size'] = merge_data['Size'].astype(str)\r\n"
      ],
      "execution_count": null,
      "outputs": []
    },
    {
      "cell_type": "code",
      "metadata": {
        "colab": {
          "base_uri": "https://localhost:8080/"
        },
        "id": "O5ZnW1sjPzIR",
        "outputId": "d6ba4011-3b2b-4a9b-810a-bcde99649c1c"
      },
      "source": [
        "price_unique = merge_data.Price.unique()"
      ],
      "execution_count": null,
      "outputs": [
        {
          "output_type": "execute_result",
          "data": {
            "text/plain": [
              "array(['0', '$6.99', '$1.99', '$4.99', '$3.99', '$2.99', '$11.99',\n",
              "       '$9.99', '$7.99', '$33.99', '$3.95', '$29.99', '$2.49', '$0.99'],\n",
              "      dtype=object)"
            ]
          },
          "metadata": {
            "tags": []
          },
          "execution_count": 35
        }
      ]
    },
    {
      "cell_type": "code",
      "metadata": {
        "colab": {
          "base_uri": "https://localhost:8080/",
          "height": 436
        },
        "id": "xA2GsJz2GKEp",
        "outputId": "0a805d77-415a-449c-f774-c2954b1bf31c"
      },
      "source": [
        "import matplotlib.pyplot as plt\r\n",
        "fig, ax = plt.subplots()\r\n",
        "fig.set_size_inches(10,6)\r\n",
        "\r\n",
        "# Select a few popular app categories\r\n",
        "popular_app = apps_df[apps_df.Category.isin(['GAME', 'FAMILY', 'PHOTOGRAPHY',\r\n",
        "                                            'MEDICAL', 'TOOLS', 'FINANCE',\r\n",
        "                                            'LIFESTYLE','BUSINESS'])]\r\n",
        "\r\n",
        "# Examine the price trend by plotting Price vs Category\r\n",
        "ax = sns.stripplot(x = popular_app['Price'], y = popular_app['Category'], jitter=True, linewidth=0.1)\r\n",
        "ax.set_title('App pricing trend across categories')\r\n",
        "\r\n",
        "# Apps which has greater than 50 dollars\r\n",
        "apps_above_500 = popular_app[['Category', 'App', 'Price']][popular_app['Price'] > '50$']\r\n",
        "apps_above_500"
      ],
      "execution_count": null,
      "outputs": [
        {
          "output_type": "execute_result",
          "data": {
            "text/html": [
              "<div>\n",
              "<style scoped>\n",
              "    .dataframe tbody tr th:only-of-type {\n",
              "        vertical-align: middle;\n",
              "    }\n",
              "\n",
              "    .dataframe tbody tr th {\n",
              "        vertical-align: top;\n",
              "    }\n",
              "\n",
              "    .dataframe thead th {\n",
              "        text-align: right;\n",
              "    }\n",
              "</style>\n",
              "<table border=\"1\" class=\"dataframe\">\n",
              "  <thead>\n",
              "    <tr style=\"text-align: right;\">\n",
              "      <th></th>\n",
              "      <th>Category</th>\n",
              "      <th>App</th>\n",
              "      <th>Price</th>\n",
              "    </tr>\n",
              "  </thead>\n",
              "  <tbody>\n",
              "  </tbody>\n",
              "</table>\n",
              "</div>"
            ],
            "text/plain": [
              "Empty DataFrame\n",
              "Columns: [Category, App, Price]\n",
              "Index: []"
            ]
          },
          "metadata": {
            "tags": []
          },
          "execution_count": 36
        },
        {
          "output_type": "display_data",
          "data": {
            "image/png": "[encoded data removed]",
            "text/plain": [
              "<Figure size 720x432 with 1 Axes>"
            ]
          },
          "metadata": {
            "tags": [],
            "needs_background": "light"
          }
        }
      ]
    },
    {
      "cell_type": "markdown",
      "metadata": {
        "id": "3xsuPNXPQPNT"
      },
      "source": [
        "Here I have tried vizualizing various parameters and concept which affect the app engagement and I do think that the Sentimental aspect plays a crucial role in it.\r\n",
        "We can drew various insights when we copared free vs paid apps as well. This comparison can also give us a clear picture of what the current demand is and accordingly what should be the approach from the supply side as well."
      ]
    }
  ]
}